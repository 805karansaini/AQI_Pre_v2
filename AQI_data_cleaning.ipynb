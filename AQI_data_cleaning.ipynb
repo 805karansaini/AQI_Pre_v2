{
 "cells": [
  {
   "cell_type": "markdown",
   "metadata": {},
   "source": [
    "### In this notebook, We Will clean The data in \"rkpuram_aqi_data.csv\"\n",
    "###### dir : Data/air_quality_data/rkpuram_aqi_data.csv \n",
    "###### It contains AQI data from 2014 to 2022\n",
    "###### We also divide data year wise also"
   ]
  },
  {
   "cell_type": "code",
   "execution_count": 1,
   "metadata": {},
   "outputs": [],
   "source": [
    "import pandas as pd\n",
    "import numpy as np\n",
    "df = pd.read_csv(\"Data/air_quality_data/rkpuram_aqi_data.csv\")"
   ]
  },
  {
   "cell_type": "code",
   "execution_count": 2,
   "metadata": {},
   "outputs": [
    {
     "data": {
      "text/html": [
       "<div>\n",
       "<style scoped>\n",
       "    .dataframe tbody tr th:only-of-type {\n",
       "        vertical-align: middle;\n",
       "    }\n",
       "\n",
       "    .dataframe tbody tr th {\n",
       "        vertical-align: top;\n",
       "    }\n",
       "\n",
       "    .dataframe thead th {\n",
       "        text-align: right;\n",
       "    }\n",
       "</style>\n",
       "<table border=\"1\" class=\"dataframe\">\n",
       "  <thead>\n",
       "    <tr style=\"text-align: right;\">\n",
       "      <th></th>\n",
       "      <th>date</th>\n",
       "      <th>pm25</th>\n",
       "      <th>pm10</th>\n",
       "      <th>o3</th>\n",
       "      <th>no2</th>\n",
       "      <th>so2</th>\n",
       "      <th>co</th>\n",
       "    </tr>\n",
       "  </thead>\n",
       "  <tbody>\n",
       "    <tr>\n",
       "      <th>0</th>\n",
       "      <td>2022/10/1</td>\n",
       "      <td>172</td>\n",
       "      <td>101</td>\n",
       "      <td>54</td>\n",
       "      <td>18</td>\n",
       "      <td>1</td>\n",
       "      <td>10</td>\n",
       "    </tr>\n",
       "    <tr>\n",
       "      <th>1</th>\n",
       "      <td>2022/10/2</td>\n",
       "      <td>154</td>\n",
       "      <td>82</td>\n",
       "      <td>44</td>\n",
       "      <td>16</td>\n",
       "      <td>1</td>\n",
       "      <td>6</td>\n",
       "    </tr>\n",
       "    <tr>\n",
       "      <th>2</th>\n",
       "      <td>2022/10/3</td>\n",
       "      <td>116</td>\n",
       "      <td>96</td>\n",
       "      <td>72</td>\n",
       "      <td>22</td>\n",
       "      <td>2</td>\n",
       "      <td>9</td>\n",
       "    </tr>\n",
       "    <tr>\n",
       "      <th>3</th>\n",
       "      <td>2022/10/4</td>\n",
       "      <td>149</td>\n",
       "      <td>106</td>\n",
       "      <td>65</td>\n",
       "      <td>21</td>\n",
       "      <td>2</td>\n",
       "      <td>11</td>\n",
       "    </tr>\n",
       "    <tr>\n",
       "      <th>4</th>\n",
       "      <td>2022/10/5</td>\n",
       "      <td>171</td>\n",
       "      <td>39</td>\n",
       "      <td>19</td>\n",
       "      <td>7</td>\n",
       "      <td>1</td>\n",
       "      <td>4</td>\n",
       "    </tr>\n",
       "  </tbody>\n",
       "</table>\n",
       "</div>"
      ],
      "text/plain": [
       "        date   pm25  pm10  o3  no2  so2  co\n",
       "0  2022/10/1    172   101  54   18    1  10\n",
       "1  2022/10/2    154    82  44   16    1   6\n",
       "2  2022/10/3    116    96  72   22    2   9\n",
       "3  2022/10/4    149   106  65   21    2  11\n",
       "4  2022/10/5    171    39  19    7    1   4"
      ]
     },
     "execution_count": 2,
     "metadata": {},
     "output_type": "execute_result"
    }
   ],
   "source": [
    "df.head()"
   ]
  },
  {
   "cell_type": "code",
   "execution_count": 3,
   "metadata": {},
   "outputs": [
    {
     "data": {
      "text/plain": [
       "<bound method NDFrame.describe of            date   pm25  pm10  o3  no2  so2  co\n",
       "0     2022/10/1    172   101  54   18    1  10\n",
       "1     2022/10/2    154    82  44   16    1   6\n",
       "2     2022/10/3    116    96  72   22    2   9\n",
       "3     2022/10/4    149   106  65   21    2  11\n",
       "4     2022/10/5    171    39  19    7    1   4\n",
       "...         ...    ...   ...  ..  ...  ...  ..\n",
       "2932  2014/3/27    167   131  58   33   10  11\n",
       "2933  2014/3/28    183    99  50   20    8   7\n",
       "2934  2014/3/29    157    86  55   13    7   6\n",
       "2935  2014/3/30    132   105  69   18    9   7\n",
       "2936  2014/3/31    153   172  48   25   13  17\n",
       "\n",
       "[2937 rows x 7 columns]>"
      ]
     },
     "execution_count": 3,
     "metadata": {},
     "output_type": "execute_result"
    }
   ],
   "source": [
    "df.describe"
   ]
  },
  {
   "cell_type": "code",
   "execution_count": 4,
   "metadata": {},
   "outputs": [
    {
     "data": {
      "text/plain": [
       "Index(['date', ' pm25', ' pm10', ' o3', ' no2', ' so2', ' co'], dtype='object')"
      ]
     },
     "execution_count": 4,
     "metadata": {},
     "output_type": "execute_result"
    }
   ],
   "source": [
    "df.columns"
   ]
  },
  {
   "cell_type": "code",
   "execution_count": 5,
   "metadata": {},
   "outputs": [],
   "source": [
    "df.drop(df.iloc[:, 2:], inplace=True, axis=1)"
   ]
  },
  {
   "cell_type": "code",
   "execution_count": 6,
   "metadata": {},
   "outputs": [
    {
     "data": {
      "text/plain": [
       "Index(['date', ' pm25'], dtype='object')"
      ]
     },
     "execution_count": 6,
     "metadata": {},
     "output_type": "execute_result"
    }
   ],
   "source": [
    "df.columns"
   ]
  },
  {
   "cell_type": "code",
   "execution_count": 7,
   "metadata": {},
   "outputs": [
    {
     "name": "stdout",
     "output_type": "stream",
     "text": [
      "<class 'str'>\n"
     ]
    }
   ],
   "source": [
    "# cheching date type\n",
    "print(type(df.date[0]))"
   ]
  },
  {
   "cell_type": "code",
   "execution_count": 8,
   "metadata": {},
   "outputs": [],
   "source": [
    "# converting to \"date\" column data to type(date/timestamp)\n",
    "df['date'] = pd.to_datetime(df['date'])"
   ]
  },
  {
   "cell_type": "code",
   "execution_count": 9,
   "metadata": {},
   "outputs": [
    {
     "name": "stdout",
     "output_type": "stream",
     "text": [
      "<class 'pandas._libs.tslibs.timestamps.Timestamp'>\n"
     ]
    }
   ],
   "source": [
    "print(type(df.date[0]))"
   ]
  },
  {
   "cell_type": "code",
   "execution_count": 10,
   "metadata": {},
   "outputs": [],
   "source": [
    "# Setting the Date values as index\n",
    "df = df.set_index('date')"
   ]
  },
  {
   "cell_type": "code",
   "execution_count": 11,
   "metadata": {},
   "outputs": [],
   "source": [
    "date_index2 = pd.date_range('2013-12-31', '2022-10-07 ', freq ='D')"
   ]
  },
  {
   "cell_type": "code",
   "execution_count": 12,
   "metadata": {},
   "outputs": [],
   "source": [
    "# reindex df by date_range to insert missign dates in df\n",
    "# sorting the df by date (Automatically) / df = df.sort_values(by='date')\n",
    "# fill_value = 0 deafult value for missing dates\n",
    "df = df.reindex(date_index2, fill_value=0)"
   ]
  },
  {
   "cell_type": "code",
   "execution_count": 13,
   "metadata": {},
   "outputs": [
    {
     "data": {
      "text/plain": [
       "<bound method NDFrame.describe of              pm25\n",
       "2013-12-31      0\n",
       "2014-01-01    268\n",
       "2014-01-02    266\n",
       "2014-01-03    250\n",
       "2014-01-04    390\n",
       "...           ...\n",
       "2022-10-03    116\n",
       "2022-10-04    149\n",
       "2022-10-05    171\n",
       "2022-10-06     61\n",
       "2022-10-07     62\n",
       "\n",
       "[3203 rows x 1 columns]>"
      ]
     },
     "execution_count": 13,
     "metadata": {},
     "output_type": "execute_result"
    }
   ],
   "source": [
    "df.describe"
   ]
  },
  {
   "cell_type": "code",
   "execution_count": 14,
   "metadata": {},
   "outputs": [],
   "source": [
    "df = df.drop(['2013-12-31'])"
   ]
  },
  {
   "cell_type": "code",
   "execution_count": 15,
   "metadata": {},
   "outputs": [],
   "source": [
    "df = df[:-7]"
   ]
  },
  {
   "cell_type": "code",
   "execution_count": 16,
   "metadata": {},
   "outputs": [],
   "source": [
    "df.columns.values[0] = 'pm25'"
   ]
  },
  {
   "cell_type": "code",
   "execution_count": 17,
   "metadata": {},
   "outputs": [],
   "source": [
    "# saving the new CSV to sorted_final_data.csv with index\n",
    "df.to_csv(\"Data/air_quality_data/sorted_pm_data_2014_2022.csv\", index=True)"
   ]
  },
  {
   "cell_type": "code",
   "execution_count": 18,
   "metadata": {},
   "outputs": [],
   "source": [
    "year_days = { 2014 : 365, 2015 : 365, 2016 : 366, 2017 : 365, 2018 : 365, 2019 : 365, 2020 : 366, 2021 : 365, 2022 : 273 }"
   ]
  },
  {
   "cell_type": "code",
   "execution_count": 19,
   "metadata": {},
   "outputs": [],
   "source": [
    "data = pd.read_csv(\"Data/air_quality_data/sorted_pm_data_2014_2022.csv\")\n",
    "data.columns.values[0] = 'date'\n",
    "data.to_csv(\"Data/air_quality_data/sorted_pm_data_2014_2022.csv\", index=False)"
   ]
  },
  {
   "cell_type": "code",
   "execution_count": 20,
   "metadata": {},
   "outputs": [],
   "source": [
    "data = pd.read_csv(\"Data/air_quality_data/sorted_pm_data_2014_2022.csv\")"
   ]
  },
  {
   "cell_type": "code",
   "execution_count": 21,
   "metadata": {},
   "outputs": [],
   "source": [
    "\n",
    "# air_quality_data2013\n",
    "start = 0\n",
    "end = 0\n",
    "for year in range(2014,2023):\n",
    "    end += year_days[year]\n",
    "    df = data[start:end]\n",
    "    df.to_csv(f'Data/air_quality_data/air_quality_data{year}.csv', index=False)\n",
    "    start += year_days[year]"
   ]
  }
 ],
 "metadata": {
  "kernelspec": {
   "display_name": "Python 3.10.4 64-bit",
   "language": "python",
   "name": "python3"
  },
  "language_info": {
   "codemirror_mode": {
    "name": "ipython",
    "version": 3
   },
   "file_extension": ".py",
   "mimetype": "text/x-python",
   "name": "python",
   "nbconvert_exporter": "python",
   "pygments_lexer": "ipython3",
   "version": "3.10.4"
  },
  "orig_nbformat": 4,
  "vscode": {
   "interpreter": {
    "hash": "fad99dc8b726c2b9f8f57bdec94982f5195546cc7231b65eb6403c4ec642f8e2"
   }
  }
 },
 "nbformat": 4,
 "nbformat_minor": 2
}
